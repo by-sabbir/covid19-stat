{
 "cells": [
  {
   "cell_type": "code",
   "execution_count": 1,
   "metadata": {},
   "outputs": [],
   "source": [
    "import matplotlib.pyplot as plt\n",
    "import seaborn as sns\n",
    "import pandas as pd\n",
    "import numpy as np\n",
    "from locale import atof\n",
    "import locale\n",
    "locale.setlocale(locale.LC_NUMERIC, '')\n",
    "%matplotlib inline"
   ]
  },
  {
   "cell_type": "code",
   "execution_count": 53,
   "metadata": {},
   "outputs": [],
   "source": [
    "def fetch_data(url):\n",
    "    df = pd.read_html(url)[0]\n",
    "#     df = pd.read_csv(\"static/corona.csv\", index_col=False)\n",
    "    if len(df.columns) >= 8:\n",
    "        df.drop(df.columns.values[-1], axis=1, inplace=True)\n",
    "        new_col_names = [\"Country\", \"Cases\", \"NewPatients\", \"Deaths\", \"RecentDeaths\",\n",
    "                         \"Recovered\", \"ActivePatients\", \"CriticalPatients\"]\n",
    "        rename_dict = dict(zip(df.columns.values, new_col_names))\n",
    "        df = df.rename(columns=rename_dict)\n",
    "        df[\"NewPatients\"] = df[\"NewPatients\"].apply(lambda x: x is not None and type(x) is not float and '+' in x and atof(x.split('+')[1]))\n",
    "        df[\"NewPatients\"] = df[\"NewPatients\"].replace(False, 0)\n",
    "        df.drop(df[df[\"Country\"].apply(lambda x: \"Total\" in x)].index.values, inplace=True)\n",
    "        df.fillna(value=0)\n",
    "        return df\n",
    "    return {\"code\": 404}"
   ]
  },
  {
   "cell_type": "code",
   "execution_count": 54,
   "metadata": {},
   "outputs": [],
   "source": [
    "df = fetch_data(\"https://www.worldometers.info/coronavirus/\")"
   ]
  },
  {
   "cell_type": "code",
   "execution_count": 55,
   "metadata": {},
   "outputs": [],
   "source": [
    "workdf = df.sort_values(\"Cases\", ascending=0).head(30)"
   ]
  },
  {
   "cell_type": "code",
   "execution_count": 62,
   "metadata": {},
   "outputs": [],
   "source": [
    "country, activePatient, recoveryRate, deathRate = df[\"Country\"], df[\"ActivePatients\"], (df[\"Recovered\"] / df[\"Cases\"]) * 100, (df[\"Deaths\"]/ df[\"Cases\"]) * 100"
   ]
  },
  {
   "cell_type": "code",
   "execution_count": 75,
   "metadata": {},
   "outputs": [],
   "source": [
    "data = {\"Country\": country,\n",
    "        \"ActivePatient\": activePatient,\n",
    "        \"RecoveryRate\": recoveryRate,\n",
    "        \"DeathRate\": deathRate}"
   ]
  },
  {
   "cell_type": "code",
   "execution_count": 76,
   "metadata": {},
   "outputs": [],
   "source": [
    "work = pd.DataFrame(data)"
   ]
  },
  {
   "cell_type": "code",
   "execution_count": 77,
   "metadata": {},
   "outputs": [
    {
     "name": "stdout",
     "output_type": "stream",
     "text": [
      "<class 'pandas.core.frame.DataFrame'>\n",
      "Int64Index: 158 entries, 0 to 157\n",
      "Data columns (total 4 columns):\n",
      "Country          158 non-null object\n",
      "ActivePatient    158 non-null int64\n",
      "RecoveryRate     74 non-null float64\n",
      "DeathRate        47 non-null float64\n",
      "dtypes: float64(2), int64(1), object(1)\n",
      "memory usage: 11.2+ KB\n"
     ]
    }
   ],
   "source": [
    "work.info()"
   ]
  },
  {
   "cell_type": "code",
   "execution_count": 83,
   "metadata": {},
   "outputs": [],
   "source": [
    "work = work.fillna(value=0)"
   ]
  },
  {
   "cell_type": "code",
   "execution_count": 84,
   "metadata": {},
   "outputs": [
    {
     "data": {
      "text/html": [
       "<div>\n",
       "<style scoped>\n",
       "    .dataframe tbody tr th:only-of-type {\n",
       "        vertical-align: middle;\n",
       "    }\n",
       "\n",
       "    .dataframe tbody tr th {\n",
       "        vertical-align: top;\n",
       "    }\n",
       "\n",
       "    .dataframe thead th {\n",
       "        text-align: right;\n",
       "    }\n",
       "</style>\n",
       "<table border=\"1\" class=\"dataframe\">\n",
       "  <thead>\n",
       "    <tr style=\"text-align: right;\">\n",
       "      <th></th>\n",
       "      <th>Country</th>\n",
       "      <th>ActivePatient</th>\n",
       "      <th>RecoveryRate</th>\n",
       "      <th>DeathRate</th>\n",
       "    </tr>\n",
       "  </thead>\n",
       "  <tbody>\n",
       "    <tr>\n",
       "      <th>0</th>\n",
       "      <td>China</td>\n",
       "      <td>10719</td>\n",
       "      <td>82.785192</td>\n",
       "      <td>3.956759</td>\n",
       "    </tr>\n",
       "    <tr>\n",
       "      <th>1</th>\n",
       "      <td>Italy</td>\n",
       "      <td>20603</td>\n",
       "      <td>9.435487</td>\n",
       "      <td>7.309977</td>\n",
       "    </tr>\n",
       "    <tr>\n",
       "      <th>2</th>\n",
       "      <td>Iran</td>\n",
       "      <td>8624</td>\n",
       "      <td>32.931554</td>\n",
       "      <td>5.194432</td>\n",
       "    </tr>\n",
       "    <tr>\n",
       "      <th>3</th>\n",
       "      <td>S. Korea</td>\n",
       "      <td>7253</td>\n",
       "      <td>10.218084</td>\n",
       "      <td>0.918892</td>\n",
       "    </tr>\n",
       "    <tr>\n",
       "      <th>4</th>\n",
       "      <td>Spain</td>\n",
       "      <td>6989</td>\n",
       "      <td>6.629905</td>\n",
       "      <td>3.744550</td>\n",
       "    </tr>\n",
       "  </tbody>\n",
       "</table>\n",
       "</div>"
      ],
      "text/plain": [
       "    Country  ActivePatient  RecoveryRate  DeathRate\n",
       "0     China          10719     82.785192   3.956759\n",
       "1     Italy          20603      9.435487   7.309977\n",
       "2      Iran           8624     32.931554   5.194432\n",
       "3  S. Korea           7253     10.218084   0.918892\n",
       "4     Spain           6989      6.629905   3.744550"
      ]
     },
     "execution_count": 84,
     "metadata": {},
     "output_type": "execute_result"
    }
   ],
   "source": [
    "work.head()"
   ]
  },
  {
   "cell_type": "code",
   "execution_count": 95,
   "metadata": {},
   "outputs": [
    {
     "name": "stderr",
     "output_type": "stream",
     "text": [
      "/home/alpha/miniconda3/lib/python3.7/site-packages/ipykernel_launcher.py:1: UserWarning: Boolean Series key will be reindexed to match DataFrame index.\n",
      "  \"\"\"Entry point for launching an IPython kernel.\n"
     ]
    }
   ],
   "source": [
    "fresh = work[work[\"ActivePatient\"] > 0][ work[\"RecoveryRate\"] > 0]"
   ]
  },
  {
   "cell_type": "code",
   "execution_count": 104,
   "metadata": {},
   "outputs": [],
   "source": [
    "sort_by_RR = fresh.sort_values(\"RecoveryRate\", ascending=0)"
   ]
  },
  {
   "cell_type": "code",
   "execution_count": 107,
   "metadata": {},
   "outputs": [
    {
     "data": {
      "text/plain": [
       "90     90.909091\n",
       "0      82.785192\n",
       "17     65.517241\n",
       "33     54.362416\n",
       "124    50.000000\n",
       "         ...    \n",
       "11      0.176211\n",
       "14      0.115741\n",
       "13      0.112867\n",
       "12      0.097656\n",
       "10      0.081235\n",
       "Name: RecoveryRate, Length: 72, dtype: float64"
      ]
     },
     "execution_count": 107,
     "metadata": {},
     "output_type": "execute_result"
    }
   ],
   "source": [
    "sort_by_RR[\"RecoveryRate\"]"
   ]
  },
  {
   "cell_type": "code",
   "execution_count": null,
   "metadata": {},
   "outputs": [],
   "source": []
  }
 ],
 "metadata": {
  "kernelspec": {
   "display_name": "Python 3.7.4 64-bit ('base': conda)",
   "language": "python",
   "name": "python37464bitbaseconda3ce79b3f9516421488370e8689554564"
  },
  "language_info": {
   "codemirror_mode": {
    "name": "ipython",
    "version": 3
   },
   "file_extension": ".py",
   "mimetype": "text/x-python",
   "name": "python",
   "nbconvert_exporter": "python",
   "pygments_lexer": "ipython3",
   "version": "3.7.4"
  }
 },
 "nbformat": 4,
 "nbformat_minor": 4
}
