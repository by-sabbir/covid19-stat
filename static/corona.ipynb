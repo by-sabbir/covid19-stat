{
 "cells": [
  {
   "cell_type": "code",
   "execution_count": 1,
   "metadata": {},
   "outputs": [
    {
     "data": {
      "text/plain": [
       "<contextlib._GeneratorContextManager at 0x7f65e1869410>"
      ]
     },
     "execution_count": 1,
     "metadata": {},
     "output_type": "execute_result"
    }
   ],
   "source": [
    "import os\n",
    "import locale\n",
    "import numpy as np\n",
    "import pandas as pd\n",
    "import requests as r\n",
    "from locale import atof\n",
    "locale.setlocale(locale.LC_NUMERIC, '')\n",
    "\n",
    "import numpy as np\n",
    "np.printoptions(precision=2)"
   ]
  },
  {
   "cell_type": "code",
   "execution_count": 2,
   "metadata": {},
   "outputs": [],
   "source": [
    "def fetch_data(url):\n",
    "    df = pd.read_html(url)[0]\n",
    "#     df = pd.read_csv(\"static/corona.csv\", index_col=False)\n",
    "    if len(df.columns) >= 8:\n",
    "        df.drop(df.columns.values[-1], axis=1, inplace=True)\n",
    "        new_col_names = [\"Country\", \"Cases\", \"NewPatients\", \"Deaths\", \"RecentDeaths\",\n",
    "                         \"Recovered\", \"ActivePatients\", \"CriticalPatients\"]\n",
    "        rename_dict = dict(zip(df.columns.values, new_col_names))\n",
    "        df = df.rename(columns=rename_dict)\n",
    "        df[\"NewPatients\"] = df[\"NewPatients\"].apply(lambda x: x is not None and type(x) is not float and '+' in x and atof(x.split('+')[1]))\n",
    "        df[\"NewPatients\"] = df[\"NewPatients\"].replace(False, 0)\n",
    "        df.drop(df[df[\"Country\"].apply(lambda x: \"Total\" in x)].index.values, inplace=True)\n",
    "        df.fillna(value=0, inplace=True)\n",
    "        return df\n",
    "    return {\"code\": 404}"
   ]
  },
  {
   "cell_type": "code",
   "execution_count": 3,
   "metadata": {},
   "outputs": [
    {
     "data": {
      "text/html": [
       "<div>\n",
       "<style scoped>\n",
       "    .dataframe tbody tr th:only-of-type {\n",
       "        vertical-align: middle;\n",
       "    }\n",
       "\n",
       "    .dataframe tbody tr th {\n",
       "        vertical-align: top;\n",
       "    }\n",
       "\n",
       "    .dataframe thead th {\n",
       "        text-align: right;\n",
       "    }\n",
       "</style>\n",
       "<table border=\"1\" class=\"dataframe\">\n",
       "  <thead>\n",
       "    <tr style=\"text-align: right;\">\n",
       "      <th></th>\n",
       "      <th>Country</th>\n",
       "      <th>Cases</th>\n",
       "      <th>NewPatients</th>\n",
       "      <th>Deaths</th>\n",
       "      <th>RecentDeaths</th>\n",
       "      <th>Recovered</th>\n",
       "      <th>ActivePatients</th>\n",
       "      <th>CriticalPatients</th>\n",
       "    </tr>\n",
       "  </thead>\n",
       "  <tbody>\n",
       "    <tr>\n",
       "      <th>0</th>\n",
       "      <td>China</td>\n",
       "      <td>80881</td>\n",
       "      <td>21.0</td>\n",
       "      <td>3226.0</td>\n",
       "      <td>13.0</td>\n",
       "      <td>68709.0</td>\n",
       "      <td>8946</td>\n",
       "      <td>3226.0</td>\n",
       "    </tr>\n",
       "    <tr>\n",
       "      <th>1</th>\n",
       "      <td>Italy</td>\n",
       "      <td>27980</td>\n",
       "      <td>0.0</td>\n",
       "      <td>2158.0</td>\n",
       "      <td>0.0</td>\n",
       "      <td>2749.0</td>\n",
       "      <td>23073</td>\n",
       "      <td>1851.0</td>\n",
       "    </tr>\n",
       "    <tr>\n",
       "      <th>2</th>\n",
       "      <td>Iran</td>\n",
       "      <td>16169</td>\n",
       "      <td>1178.0</td>\n",
       "      <td>988.0</td>\n",
       "      <td>135.0</td>\n",
       "      <td>5389.0</td>\n",
       "      <td>9792</td>\n",
       "      <td>0.0</td>\n",
       "    </tr>\n",
       "    <tr>\n",
       "      <th>3</th>\n",
       "      <td>Spain</td>\n",
       "      <td>11409</td>\n",
       "      <td>1467.0</td>\n",
       "      <td>499.0</td>\n",
       "      <td>157.0</td>\n",
       "      <td>1028.0</td>\n",
       "      <td>9882</td>\n",
       "      <td>563.0</td>\n",
       "    </tr>\n",
       "    <tr>\n",
       "      <th>4</th>\n",
       "      <td>S. Korea</td>\n",
       "      <td>8320</td>\n",
       "      <td>84.0</td>\n",
       "      <td>81.0</td>\n",
       "      <td>6.0</td>\n",
       "      <td>1401.0</td>\n",
       "      <td>6838</td>\n",
       "      <td>59.0</td>\n",
       "    </tr>\n",
       "  </tbody>\n",
       "</table>\n",
       "</div>"
      ],
      "text/plain": [
       "    Country  Cases  NewPatients  Deaths  RecentDeaths  Recovered  \\\n",
       "0     China  80881         21.0  3226.0          13.0    68709.0   \n",
       "1     Italy  27980          0.0  2158.0           0.0     2749.0   \n",
       "2      Iran  16169       1178.0   988.0         135.0     5389.0   \n",
       "3     Spain  11409       1467.0   499.0         157.0     1028.0   \n",
       "4  S. Korea   8320         84.0    81.0           6.0     1401.0   \n",
       "\n",
       "   ActivePatients  CriticalPatients  \n",
       "0            8946            3226.0  \n",
       "1           23073            1851.0  \n",
       "2            9792               0.0  \n",
       "3            9882             563.0  \n",
       "4            6838              59.0  "
      ]
     },
     "execution_count": 3,
     "metadata": {},
     "output_type": "execute_result"
    }
   ],
   "source": [
    "res = r.get(\"https://www.worldometers.info/coronavirus/\") \n",
    "df = fetch_data(res.text)\n",
    "df.head()"
   ]
  },
  {
   "cell_type": "code",
   "execution_count": 4,
   "metadata": {},
   "outputs": [],
   "source": [
    "workdf = df.sort_values(\"Cases\", ascending=0).head(30)"
   ]
  },
  {
   "cell_type": "code",
   "execution_count": 5,
   "metadata": {},
   "outputs": [],
   "source": [
    "country, activePatient, recovered, recoveryRate, deathRate = df[\"Country\"], df[\"ActivePatients\"], df[\"Recovered\"], (df[\"Recovered\"] / df[\"Cases\"]) * 100, (df[\"Deaths\"]/ df[\"Cases\"]) * 100"
   ]
  },
  {
   "cell_type": "code",
   "execution_count": 6,
   "metadata": {},
   "outputs": [],
   "source": [
    "data = {\"Country\": country,\n",
    "        \"ActivePatient\": activePatient,\n",
    "        \"Recovered\": recovered,\n",
    "        \"RecoveryRate\": recoveryRate.apply(lambda x: round(x)),\n",
    "        \"DeathRate\": deathRate.apply(lambda x: round(x))}"
   ]
  },
  {
   "cell_type": "code",
   "execution_count": 7,
   "metadata": {},
   "outputs": [],
   "source": [
    "work = pd.DataFrame(data)"
   ]
  },
  {
   "cell_type": "code",
   "execution_count": 8,
   "metadata": {},
   "outputs": [
    {
     "name": "stdout",
     "output_type": "stream",
     "text": [
      "<class 'pandas.core.frame.DataFrame'>\n",
      "Int64Index: 163 entries, 0 to 162\n",
      "Data columns (total 5 columns):\n",
      "Country          163 non-null object\n",
      "ActivePatient    163 non-null int64\n",
      "Recovered        163 non-null float64\n",
      "RecoveryRate     163 non-null int64\n",
      "DeathRate        163 non-null int64\n",
      "dtypes: float64(1), int64(3), object(1)\n",
      "memory usage: 7.6+ KB\n"
     ]
    }
   ],
   "source": [
    "work.info()"
   ]
  },
  {
   "cell_type": "code",
   "execution_count": 9,
   "metadata": {},
   "outputs": [],
   "source": [
    "work = work.fillna(value=0)"
   ]
  },
  {
   "cell_type": "code",
   "execution_count": 10,
   "metadata": {},
   "outputs": [
    {
     "data": {
      "text/html": [
       "<div>\n",
       "<style scoped>\n",
       "    .dataframe tbody tr th:only-of-type {\n",
       "        vertical-align: middle;\n",
       "    }\n",
       "\n",
       "    .dataframe tbody tr th {\n",
       "        vertical-align: top;\n",
       "    }\n",
       "\n",
       "    .dataframe thead th {\n",
       "        text-align: right;\n",
       "    }\n",
       "</style>\n",
       "<table border=\"1\" class=\"dataframe\">\n",
       "  <thead>\n",
       "    <tr style=\"text-align: right;\">\n",
       "      <th></th>\n",
       "      <th>Country</th>\n",
       "      <th>ActivePatient</th>\n",
       "      <th>Recovered</th>\n",
       "      <th>RecoveryRate</th>\n",
       "      <th>DeathRate</th>\n",
       "    </tr>\n",
       "  </thead>\n",
       "  <tbody>\n",
       "    <tr>\n",
       "      <th>0</th>\n",
       "      <td>China</td>\n",
       "      <td>8946</td>\n",
       "      <td>68709.0</td>\n",
       "      <td>85</td>\n",
       "      <td>4</td>\n",
       "    </tr>\n",
       "    <tr>\n",
       "      <th>1</th>\n",
       "      <td>Italy</td>\n",
       "      <td>23073</td>\n",
       "      <td>2749.0</td>\n",
       "      <td>10</td>\n",
       "      <td>8</td>\n",
       "    </tr>\n",
       "    <tr>\n",
       "      <th>2</th>\n",
       "      <td>Iran</td>\n",
       "      <td>9792</td>\n",
       "      <td>5389.0</td>\n",
       "      <td>33</td>\n",
       "      <td>6</td>\n",
       "    </tr>\n",
       "    <tr>\n",
       "      <th>3</th>\n",
       "      <td>Spain</td>\n",
       "      <td>9882</td>\n",
       "      <td>1028.0</td>\n",
       "      <td>9</td>\n",
       "      <td>4</td>\n",
       "    </tr>\n",
       "    <tr>\n",
       "      <th>4</th>\n",
       "      <td>S. Korea</td>\n",
       "      <td>6838</td>\n",
       "      <td>1401.0</td>\n",
       "      <td>17</td>\n",
       "      <td>1</td>\n",
       "    </tr>\n",
       "  </tbody>\n",
       "</table>\n",
       "</div>"
      ],
      "text/plain": [
       "    Country  ActivePatient  Recovered  RecoveryRate  DeathRate\n",
       "0     China           8946    68709.0            85          4\n",
       "1     Italy          23073     2749.0            10          8\n",
       "2      Iran           9792     5389.0            33          6\n",
       "3     Spain           9882     1028.0             9          4\n",
       "4  S. Korea           6838     1401.0            17          1"
      ]
     },
     "execution_count": 10,
     "metadata": {},
     "output_type": "execute_result"
    }
   ],
   "source": [
    "work.head()"
   ]
  },
  {
   "cell_type": "code",
   "execution_count": 11,
   "metadata": {},
   "outputs": [
    {
     "name": "stderr",
     "output_type": "stream",
     "text": [
      "/home/alpha/miniconda3/lib/python3.7/site-packages/ipykernel_launcher.py:1: UserWarning: Boolean Series key will be reindexed to match DataFrame index.\n",
      "  \"\"\"Entry point for launching an IPython kernel.\n"
     ]
    }
   ],
   "source": [
    "fresh = work[work[\"ActivePatient\"] > 0][ work[\"RecoveryRate\"] > 0]"
   ]
  },
  {
   "cell_type": "code",
   "execution_count": 14,
   "metadata": {},
   "outputs": [],
   "source": [
    "sort_by_RR = fresh.sort_values(\"RecoveryRate\", ascending=0)"
   ]
  },
  {
   "cell_type": "code",
   "execution_count": 15,
   "metadata": {},
   "outputs": [
    {
     "data": {
      "text/html": [
       "<div>\n",
       "<style scoped>\n",
       "    .dataframe tbody tr th:only-of-type {\n",
       "        vertical-align: middle;\n",
       "    }\n",
       "\n",
       "    .dataframe tbody tr th {\n",
       "        vertical-align: top;\n",
       "    }\n",
       "\n",
       "    .dataframe thead th {\n",
       "        text-align: right;\n",
       "    }\n",
       "</style>\n",
       "<table border=\"1\" class=\"dataframe\">\n",
       "  <thead>\n",
       "    <tr style=\"text-align: right;\">\n",
       "      <th></th>\n",
       "      <th>Country</th>\n",
       "      <th>ActivePatient</th>\n",
       "      <th>Recovered</th>\n",
       "      <th>RecoveryRate</th>\n",
       "      <th>DeathRate</th>\n",
       "    </tr>\n",
       "  </thead>\n",
       "  <tbody>\n",
       "    <tr>\n",
       "      <th>0</th>\n",
       "      <td>China</td>\n",
       "      <td>8946</td>\n",
       "      <td>68709.0</td>\n",
       "      <td>85</td>\n",
       "      <td>4</td>\n",
       "    </tr>\n",
       "    <tr>\n",
       "      <th>99</th>\n",
       "      <td>Macao</td>\n",
       "      <td>3</td>\n",
       "      <td>10.0</td>\n",
       "      <td>77</td>\n",
       "      <td>0</td>\n",
       "    </tr>\n",
       "    <tr>\n",
       "      <th>17</th>\n",
       "      <td>Diamond Princess</td>\n",
       "      <td>233</td>\n",
       "      <td>456.0</td>\n",
       "      <td>66</td>\n",
       "      <td>1</td>\n",
       "    </tr>\n",
       "    <tr>\n",
       "      <th>91</th>\n",
       "      <td>Oman</td>\n",
       "      <td>12</td>\n",
       "      <td>12.0</td>\n",
       "      <td>50</td>\n",
       "      <td>0</td>\n",
       "    </tr>\n",
       "    <tr>\n",
       "      <th>42</th>\n",
       "      <td>Hong Kong</td>\n",
       "      <td>77</td>\n",
       "      <td>81.0</td>\n",
       "      <td>50</td>\n",
       "      <td>2</td>\n",
       "    </tr>\n",
       "  </tbody>\n",
       "</table>\n",
       "</div>"
      ],
      "text/plain": [
       "             Country  ActivePatient  Recovered  RecoveryRate  DeathRate\n",
       "0              China           8946    68709.0            85          4\n",
       "99             Macao              3       10.0            77          0\n",
       "17  Diamond Princess            233      456.0            66          1\n",
       "91              Oman             12       12.0            50          0\n",
       "42         Hong Kong             77       81.0            50          2"
      ]
     },
     "execution_count": 15,
     "metadata": {},
     "output_type": "execute_result"
    }
   ],
   "source": [
    "sort_by_RR.head()"
   ]
  },
  {
   "cell_type": "code",
   "execution_count": 16,
   "metadata": {},
   "outputs": [
    {
     "data": {
      "text/plain": [
       "Country             Dominican Republic\n",
       "Cases                               21\n",
       "NewPatients                          0\n",
       "Deaths                               1\n",
       "RecentDeaths                         0\n",
       "Recovered                            0\n",
       "ActivePatients                      20\n",
       "CriticalPatients                     0\n",
       "Name: 94, dtype: object"
      ]
     },
     "execution_count": 16,
     "metadata": {},
     "output_type": "execute_result"
    }
   ],
   "source": [
    "df.iloc[94]"
   ]
  },
  {
   "cell_type": "code",
   "execution_count": 17,
   "metadata": {},
   "outputs": [
    {
     "data": {
      "text/html": [
       "<div>\n",
       "<style scoped>\n",
       "    .dataframe tbody tr th:only-of-type {\n",
       "        vertical-align: middle;\n",
       "    }\n",
       "\n",
       "    .dataframe tbody tr th {\n",
       "        vertical-align: top;\n",
       "    }\n",
       "\n",
       "    .dataframe thead th {\n",
       "        text-align: right;\n",
       "    }\n",
       "</style>\n",
       "<table border=\"1\" class=\"dataframe\">\n",
       "  <thead>\n",
       "    <tr style=\"text-align: right;\">\n",
       "      <th></th>\n",
       "      <th>Country</th>\n",
       "      <th>ActivePatient</th>\n",
       "      <th>Recovered</th>\n",
       "      <th>RecoveryRate</th>\n",
       "      <th>DeathRate</th>\n",
       "    </tr>\n",
       "  </thead>\n",
       "  <tbody>\n",
       "    <tr>\n",
       "      <th>51</th>\n",
       "      <td>San Marino</td>\n",
       "      <td>89</td>\n",
       "      <td>4.0</td>\n",
       "      <td>4</td>\n",
       "      <td>9</td>\n",
       "    </tr>\n",
       "    <tr>\n",
       "      <th>1</th>\n",
       "      <td>Italy</td>\n",
       "      <td>23073</td>\n",
       "      <td>2749.0</td>\n",
       "      <td>10</td>\n",
       "      <td>8</td>\n",
       "    </tr>\n",
       "    <tr>\n",
       "      <th>65</th>\n",
       "      <td>Algeria</td>\n",
       "      <td>45</td>\n",
       "      <td>10.0</td>\n",
       "      <td>17</td>\n",
       "      <td>8</td>\n",
       "    </tr>\n",
       "    <tr>\n",
       "      <th>43</th>\n",
       "      <td>Iraq</td>\n",
       "      <td>102</td>\n",
       "      <td>41.0</td>\n",
       "      <td>27</td>\n",
       "      <td>7</td>\n",
       "    </tr>\n",
       "    <tr>\n",
       "      <th>36</th>\n",
       "      <td>Philippines</td>\n",
       "      <td>170</td>\n",
       "      <td>5.0</td>\n",
       "      <td>3</td>\n",
       "      <td>6</td>\n",
       "    </tr>\n",
       "    <tr>\n",
       "      <th>...</th>\n",
       "      <td>...</td>\n",
       "      <td>...</td>\n",
       "      <td>...</td>\n",
       "      <td>...</td>\n",
       "      <td>...</td>\n",
       "    </tr>\n",
       "    <tr>\n",
       "      <th>99</th>\n",
       "      <td>Macao</td>\n",
       "      <td>3</td>\n",
       "      <td>10.0</td>\n",
       "      <td>77</td>\n",
       "      <td>0</td>\n",
       "    </tr>\n",
       "    <tr>\n",
       "      <th>54</th>\n",
       "      <td>Mexico</td>\n",
       "      <td>78</td>\n",
       "      <td>4.0</td>\n",
       "      <td>5</td>\n",
       "      <td>0</td>\n",
       "    </tr>\n",
       "    <tr>\n",
       "      <th>46</th>\n",
       "      <td>Saudi Arabia</td>\n",
       "      <td>127</td>\n",
       "      <td>6.0</td>\n",
       "      <td>5</td>\n",
       "      <td>0</td>\n",
       "    </tr>\n",
       "    <tr>\n",
       "      <th>92</th>\n",
       "      <td>Tunisia</td>\n",
       "      <td>23</td>\n",
       "      <td>1.0</td>\n",
       "      <td>4</td>\n",
       "      <td>0</td>\n",
       "    </tr>\n",
       "    <tr>\n",
       "      <th>49</th>\n",
       "      <td>Peru</td>\n",
       "      <td>116</td>\n",
       "      <td>1.0</td>\n",
       "      <td>1</td>\n",
       "      <td>0</td>\n",
       "    </tr>\n",
       "  </tbody>\n",
       "</table>\n",
       "<p>74 rows × 5 columns</p>\n",
       "</div>"
      ],
      "text/plain": [
       "         Country  ActivePatient  Recovered  RecoveryRate  DeathRate\n",
       "51    San Marino             89        4.0             4          9\n",
       "1          Italy          23073     2749.0            10          8\n",
       "65       Algeria             45       10.0            17          8\n",
       "43          Iraq            102       41.0            27          7\n",
       "36   Philippines            170        5.0             3          6\n",
       "..           ...            ...        ...           ...        ...\n",
       "99         Macao              3       10.0            77          0\n",
       "54        Mexico             78        4.0             5          0\n",
       "46  Saudi Arabia            127        6.0             5          0\n",
       "92       Tunisia             23        1.0             4          0\n",
       "49          Peru            116        1.0             1          0\n",
       "\n",
       "[74 rows x 5 columns]"
      ]
     },
     "execution_count": 17,
     "metadata": {},
     "output_type": "execute_result"
    }
   ],
   "source": [
    "sort_by_RR.sort_values(\"DeathRate\", ascending=0)"
   ]
  },
  {
   "cell_type": "code",
   "execution_count": 18,
   "metadata": {},
   "outputs": [],
   "source": [
    "di = sort_by_RR.head().to_dict()"
   ]
  },
  {
   "cell_type": "code",
   "execution_count": 19,
   "metadata": {},
   "outputs": [
    {
     "data": {
      "text/plain": [
       "dict_keys(['Country', 'ActivePatient', 'Recovered', 'RecoveryRate', 'DeathRate'])"
      ]
     },
     "execution_count": 19,
     "metadata": {},
     "output_type": "execute_result"
    }
   ],
   "source": [
    "di.keys()"
   ]
  },
  {
   "cell_type": "code",
   "execution_count": 22,
   "metadata": {},
   "outputs": [],
   "source": [
    "sort_by_RR.reset_index(drop=True, inplace=True)"
   ]
  },
  {
   "cell_type": "code",
   "execution_count": 24,
   "metadata": {},
   "outputs": [],
   "source": [
    "sm = sort_by_RR.head()"
   ]
  },
  {
   "cell_type": "code",
   "execution_count": 25,
   "metadata": {},
   "outputs": [
    {
     "data": {
      "text/plain": [
       "'<table border=\"1\" class=\"dataframe\">\\n  <thead>\\n    <tr style=\"text-align: right;\">\\n      <th>Country</th>\\n      <th>ActivePatient</th>\\n      <th>Recovered</th>\\n      <th>RecoveryRate</th>\\n      <th>DeathRate</th>\\n    </tr>\\n  </thead>\\n  <tbody>\\n    <tr>\\n      <td>China</td>\\n      <td>8946</td>\\n      <td>68709.0</td>\\n      <td>85</td>\\n      <td>4</td>\\n    </tr>\\n    <tr>\\n      <td>Macao</td>\\n      <td>3</td>\\n      <td>10.0</td>\\n      <td>77</td>\\n      <td>0</td>\\n    </tr>\\n    <tr>\\n      <td>Diamond Princess</td>\\n      <td>233</td>\\n      <td>456.0</td>\\n      <td>66</td>\\n      <td>1</td>\\n    </tr>\\n    <tr>\\n      <td>Oman</td>\\n      <td>12</td>\\n      <td>12.0</td>\\n      <td>50</td>\\n      <td>0</td>\\n    </tr>\\n    <tr>\\n      <td>Hong Kong</td>\\n      <td>77</td>\\n      <td>81.0</td>\\n      <td>50</td>\\n      <td>2</td>\\n    </tr>\\n  </tbody>\\n</table>'"
      ]
     },
     "execution_count": 25,
     "metadata": {},
     "output_type": "execute_result"
    }
   ],
   "source": [
    "sm.to_html(index=False)"
   ]
  },
  {
   "cell_type": "code",
   "execution_count": null,
   "metadata": {},
   "outputs": [],
   "source": []
  }
 ],
 "metadata": {
  "kernelspec": {
   "display_name": "Python 3.7.4 64-bit ('base': conda)",
   "language": "python",
   "name": "python37464bitbaseconda3ce79b3f9516421488370e8689554564"
  },
  "language_info": {
   "codemirror_mode": {
    "name": "ipython",
    "version": 3
   },
   "file_extension": ".py",
   "mimetype": "text/x-python",
   "name": "python",
   "nbconvert_exporter": "python",
   "pygments_lexer": "ipython3",
   "version": "3.7.4"
  }
 },
 "nbformat": 4,
 "nbformat_minor": 4
}
