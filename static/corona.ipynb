{
 "cells": [
  {
   "cell_type": "code",
   "execution_count": 117,
   "metadata": {},
   "outputs": [
    {
     "data": {
      "text/plain": [
       "<contextlib._GeneratorContextManager at 0x7f65d6383090>"
      ]
     },
     "execution_count": 117,
     "metadata": {},
     "output_type": "execute_result"
    }
   ],
   "source": [
    "import os\n",
    "import locale\n",
    "import numpy as np\n",
    "import pandas as pd\n",
    "import requests as r\n",
    "\n",
    "import numpy as np\n",
    "np.printoptions(precision=2)"
   ]
  },
  {
   "cell_type": "code",
   "execution_count": 118,
   "metadata": {},
   "outputs": [],
   "source": [
    "def fetch_data(url):\n",
    "    df = pd.read_html(url)[0]\n",
    "#     df = pd.read_csv(\"static/corona.csv\", index_col=False)\n",
    "    if len(df.columns) >= 8:\n",
    "        df.drop(df.columns.values[-1], axis=1, inplace=True)\n",
    "        new_col_names = [\"Country\", \"Cases\", \"NewPatients\", \"Deaths\", \"RecentDeaths\",\n",
    "                         \"Recovered\", \"ActivePatients\", \"CriticalPatients\"]\n",
    "        rename_dict = dict(zip(df.columns.values, new_col_names))\n",
    "        df = df.rename(columns=rename_dict)\n",
    "        df[\"NewPatients\"] = df[\"NewPatients\"].apply(lambda x: x is not None and type(x) is not float and '+' in x and int(x.split('+')[1].replace(\",\", \"\")))\n",
    "        df[\"NewPatients\"] = df[\"NewPatients\"].replace(False, 0)\n",
    "        df.drop(df[df[\"Country\"].apply(lambda x: \"Total\" in x)].index.values, inplace=True)\n",
    "        df.fillna(value=0, inplace=True)\n",
    "        return df\n",
    "    return {\"code\": 404}"
   ]
  },
  {
   "cell_type": "code",
   "execution_count": 119,
   "metadata": {},
   "outputs": [
    {
     "data": {
      "text/html": [
       "<div>\n",
       "<style scoped>\n",
       "    .dataframe tbody tr th:only-of-type {\n",
       "        vertical-align: middle;\n",
       "    }\n",
       "\n",
       "    .dataframe tbody tr th {\n",
       "        vertical-align: top;\n",
       "    }\n",
       "\n",
       "    .dataframe thead th {\n",
       "        text-align: right;\n",
       "    }\n",
       "</style>\n",
       "<table border=\"1\" class=\"dataframe\">\n",
       "  <thead>\n",
       "    <tr style=\"text-align: right;\">\n",
       "      <th></th>\n",
       "      <th>Country</th>\n",
       "      <th>Cases</th>\n",
       "      <th>NewPatients</th>\n",
       "      <th>Deaths</th>\n",
       "      <th>RecentDeaths</th>\n",
       "      <th>Recovered</th>\n",
       "      <th>ActivePatients</th>\n",
       "      <th>CriticalPatients</th>\n",
       "    </tr>\n",
       "  </thead>\n",
       "  <tbody>\n",
       "    <tr>\n",
       "      <th>0</th>\n",
       "      <td>China</td>\n",
       "      <td>80881</td>\n",
       "      <td>0</td>\n",
       "      <td>3226.0</td>\n",
       "      <td>0</td>\n",
       "      <td>68719.0</td>\n",
       "      <td>8936</td>\n",
       "      <td>3226.0</td>\n",
       "    </tr>\n",
       "    <tr>\n",
       "      <th>1</th>\n",
       "      <td>Italy</td>\n",
       "      <td>31506</td>\n",
       "      <td>3526</td>\n",
       "      <td>2503.0</td>\n",
       "      <td>+345</td>\n",
       "      <td>2941.0</td>\n",
       "      <td>26062</td>\n",
       "      <td>2060.0</td>\n",
       "    </tr>\n",
       "    <tr>\n",
       "      <th>2</th>\n",
       "      <td>Iran</td>\n",
       "      <td>16169</td>\n",
       "      <td>1178</td>\n",
       "      <td>988.0</td>\n",
       "      <td>+135</td>\n",
       "      <td>5389.0</td>\n",
       "      <td>9792</td>\n",
       "      <td>0.0</td>\n",
       "    </tr>\n",
       "    <tr>\n",
       "      <th>3</th>\n",
       "      <td>Spain</td>\n",
       "      <td>11826</td>\n",
       "      <td>1884</td>\n",
       "      <td>533.0</td>\n",
       "      <td>+191</td>\n",
       "      <td>1028.0</td>\n",
       "      <td>10265</td>\n",
       "      <td>563.0</td>\n",
       "    </tr>\n",
       "    <tr>\n",
       "      <th>4</th>\n",
       "      <td>Germany</td>\n",
       "      <td>9367</td>\n",
       "      <td>2095</td>\n",
       "      <td>26.0</td>\n",
       "      <td>+9</td>\n",
       "      <td>67.0</td>\n",
       "      <td>9274</td>\n",
       "      <td>2.0</td>\n",
       "    </tr>\n",
       "  </tbody>\n",
       "</table>\n",
       "</div>"
      ],
      "text/plain": [
       "   Country  Cases  NewPatients  Deaths RecentDeaths  Recovered  \\\n",
       "0    China  80881            0  3226.0            0    68719.0   \n",
       "1    Italy  31506         3526  2503.0         +345     2941.0   \n",
       "2     Iran  16169         1178   988.0         +135     5389.0   \n",
       "3    Spain  11826         1884   533.0         +191     1028.0   \n",
       "4  Germany   9367         2095    26.0           +9       67.0   \n",
       "\n",
       "   ActivePatients  CriticalPatients  \n",
       "0            8936            3226.0  \n",
       "1           26062            2060.0  \n",
       "2            9792               0.0  \n",
       "3           10265             563.0  \n",
       "4            9274               2.0  "
      ]
     },
     "execution_count": 119,
     "metadata": {},
     "output_type": "execute_result"
    }
   ],
   "source": [
    "res = r.get(\"https://www.worldometers.info/coronavirus/\") \n",
    "df = fetch_data(res.text)\n",
    "df.head()"
   ]
  },
  {
   "cell_type": "code",
   "execution_count": 4,
   "metadata": {},
   "outputs": [],
   "source": [
    "workdf = df.sort_values(\"Cases\", ascending=0).head(30)"
   ]
  },
  {
   "cell_type": "code",
   "execution_count": 5,
   "metadata": {},
   "outputs": [],
   "source": [
    "country, activePatient, recovered, recoveryRate, deathRate = df[\"Country\"], df[\"ActivePatients\"], df[\"Recovered\"], (df[\"Recovered\"] / df[\"Cases\"]) * 100, (df[\"Deaths\"]/ df[\"Cases\"]) * 100"
   ]
  },
  {
   "cell_type": "code",
   "execution_count": 6,
   "metadata": {},
   "outputs": [],
   "source": [
    "data = {\"Country\": country,\n",
    "        \"ActivePatient\": activePatient,\n",
    "        \"Recovered\": recovered,\n",
    "        \"RecoveryRate\": recoveryRate.apply(lambda x: round(x)),\n",
    "        \"DeathRate\": deathRate.apply(lambda x: round(x))}"
   ]
  },
  {
   "cell_type": "code",
   "execution_count": 7,
   "metadata": {},
   "outputs": [],
   "source": [
    "work = pd.DataFrame(data)"
   ]
  },
  {
   "cell_type": "code",
   "execution_count": 8,
   "metadata": {},
   "outputs": [
    {
     "name": "stdout",
     "output_type": "stream",
     "text": [
      "<class 'pandas.core.frame.DataFrame'>\n",
      "Int64Index: 163 entries, 0 to 162\n",
      "Data columns (total 5 columns):\n",
      "Country          163 non-null object\n",
      "ActivePatient    163 non-null int64\n",
      "Recovered        163 non-null float64\n",
      "RecoveryRate     163 non-null int64\n",
      "DeathRate        163 non-null int64\n",
      "dtypes: float64(1), int64(3), object(1)\n",
      "memory usage: 7.6+ KB\n"
     ]
    }
   ],
   "source": [
    "work.info()"
   ]
  },
  {
   "cell_type": "code",
   "execution_count": 9,
   "metadata": {},
   "outputs": [],
   "source": [
    "work = work.fillna(value=0)"
   ]
  },
  {
   "cell_type": "code",
   "execution_count": 10,
   "metadata": {},
   "outputs": [
    {
     "data": {
      "text/html": [
       "<div>\n",
       "<style scoped>\n",
       "    .dataframe tbody tr th:only-of-type {\n",
       "        vertical-align: middle;\n",
       "    }\n",
       "\n",
       "    .dataframe tbody tr th {\n",
       "        vertical-align: top;\n",
       "    }\n",
       "\n",
       "    .dataframe thead th {\n",
       "        text-align: right;\n",
       "    }\n",
       "</style>\n",
       "<table border=\"1\" class=\"dataframe\">\n",
       "  <thead>\n",
       "    <tr style=\"text-align: right;\">\n",
       "      <th></th>\n",
       "      <th>Country</th>\n",
       "      <th>ActivePatient</th>\n",
       "      <th>Recovered</th>\n",
       "      <th>RecoveryRate</th>\n",
       "      <th>DeathRate</th>\n",
       "    </tr>\n",
       "  </thead>\n",
       "  <tbody>\n",
       "    <tr>\n",
       "      <th>0</th>\n",
       "      <td>China</td>\n",
       "      <td>8946</td>\n",
       "      <td>68709.0</td>\n",
       "      <td>85</td>\n",
       "      <td>4</td>\n",
       "    </tr>\n",
       "    <tr>\n",
       "      <th>1</th>\n",
       "      <td>Italy</td>\n",
       "      <td>23073</td>\n",
       "      <td>2749.0</td>\n",
       "      <td>10</td>\n",
       "      <td>8</td>\n",
       "    </tr>\n",
       "    <tr>\n",
       "      <th>2</th>\n",
       "      <td>Iran</td>\n",
       "      <td>9792</td>\n",
       "      <td>5389.0</td>\n",
       "      <td>33</td>\n",
       "      <td>6</td>\n",
       "    </tr>\n",
       "    <tr>\n",
       "      <th>3</th>\n",
       "      <td>Spain</td>\n",
       "      <td>9882</td>\n",
       "      <td>1028.0</td>\n",
       "      <td>9</td>\n",
       "      <td>4</td>\n",
       "    </tr>\n",
       "    <tr>\n",
       "      <th>4</th>\n",
       "      <td>S. Korea</td>\n",
       "      <td>6838</td>\n",
       "      <td>1401.0</td>\n",
       "      <td>17</td>\n",
       "      <td>1</td>\n",
       "    </tr>\n",
       "  </tbody>\n",
       "</table>\n",
       "</div>"
      ],
      "text/plain": [
       "    Country  ActivePatient  Recovered  RecoveryRate  DeathRate\n",
       "0     China           8946    68709.0            85          4\n",
       "1     Italy          23073     2749.0            10          8\n",
       "2      Iran           9792     5389.0            33          6\n",
       "3     Spain           9882     1028.0             9          4\n",
       "4  S. Korea           6838     1401.0            17          1"
      ]
     },
     "execution_count": 10,
     "metadata": {},
     "output_type": "execute_result"
    }
   ],
   "source": [
    "work.head()"
   ]
  },
  {
   "cell_type": "code",
   "execution_count": 11,
   "metadata": {},
   "outputs": [
    {
     "name": "stderr",
     "output_type": "stream",
     "text": [
      "/home/alpha/miniconda3/lib/python3.7/site-packages/ipykernel_launcher.py:1: UserWarning: Boolean Series key will be reindexed to match DataFrame index.\n",
      "  \"\"\"Entry point for launching an IPython kernel.\n"
     ]
    }
   ],
   "source": [
    "fresh = work[work[\"ActivePatient\"] > 0][ work[\"RecoveryRate\"] > 0]"
   ]
  },
  {
   "cell_type": "code",
   "execution_count": 14,
   "metadata": {},
   "outputs": [],
   "source": [
    "sort_by_RR = fresh.sort_values(\"RecoveryRate\", ascending=0)"
   ]
  },
  {
   "cell_type": "code",
   "execution_count": 15,
   "metadata": {},
   "outputs": [
    {
     "data": {
      "text/html": [
       "<div>\n",
       "<style scoped>\n",
       "    .dataframe tbody tr th:only-of-type {\n",
       "        vertical-align: middle;\n",
       "    }\n",
       "\n",
       "    .dataframe tbody tr th {\n",
       "        vertical-align: top;\n",
       "    }\n",
       "\n",
       "    .dataframe thead th {\n",
       "        text-align: right;\n",
       "    }\n",
       "</style>\n",
       "<table border=\"1\" class=\"dataframe\">\n",
       "  <thead>\n",
       "    <tr style=\"text-align: right;\">\n",
       "      <th></th>\n",
       "      <th>Country</th>\n",
       "      <th>ActivePatient</th>\n",
       "      <th>Recovered</th>\n",
       "      <th>RecoveryRate</th>\n",
       "      <th>DeathRate</th>\n",
       "    </tr>\n",
       "  </thead>\n",
       "  <tbody>\n",
       "    <tr>\n",
       "      <th>0</th>\n",
       "      <td>China</td>\n",
       "      <td>8946</td>\n",
       "      <td>68709.0</td>\n",
       "      <td>85</td>\n",
       "      <td>4</td>\n",
       "    </tr>\n",
       "    <tr>\n",
       "      <th>99</th>\n",
       "      <td>Macao</td>\n",
       "      <td>3</td>\n",
       "      <td>10.0</td>\n",
       "      <td>77</td>\n",
       "      <td>0</td>\n",
       "    </tr>\n",
       "    <tr>\n",
       "      <th>17</th>\n",
       "      <td>Diamond Princess</td>\n",
       "      <td>233</td>\n",
       "      <td>456.0</td>\n",
       "      <td>66</td>\n",
       "      <td>1</td>\n",
       "    </tr>\n",
       "    <tr>\n",
       "      <th>91</th>\n",
       "      <td>Oman</td>\n",
       "      <td>12</td>\n",
       "      <td>12.0</td>\n",
       "      <td>50</td>\n",
       "      <td>0</td>\n",
       "    </tr>\n",
       "    <tr>\n",
       "      <th>42</th>\n",
       "      <td>Hong Kong</td>\n",
       "      <td>77</td>\n",
       "      <td>81.0</td>\n",
       "      <td>50</td>\n",
       "      <td>2</td>\n",
       "    </tr>\n",
       "  </tbody>\n",
       "</table>\n",
       "</div>"
      ],
      "text/plain": [
       "             Country  ActivePatient  Recovered  RecoveryRate  DeathRate\n",
       "0              China           8946    68709.0            85          4\n",
       "99             Macao              3       10.0            77          0\n",
       "17  Diamond Princess            233      456.0            66          1\n",
       "91              Oman             12       12.0            50          0\n",
       "42         Hong Kong             77       81.0            50          2"
      ]
     },
     "execution_count": 15,
     "metadata": {},
     "output_type": "execute_result"
    }
   ],
   "source": [
    "sort_by_RR.head()"
   ]
  },
  {
   "cell_type": "code",
   "execution_count": 16,
   "metadata": {},
   "outputs": [
    {
     "data": {
      "text/plain": [
       "Country             Dominican Republic\n",
       "Cases                               21\n",
       "NewPatients                          0\n",
       "Deaths                               1\n",
       "RecentDeaths                         0\n",
       "Recovered                            0\n",
       "ActivePatients                      20\n",
       "CriticalPatients                     0\n",
       "Name: 94, dtype: object"
      ]
     },
     "execution_count": 16,
     "metadata": {},
     "output_type": "execute_result"
    }
   ],
   "source": [
    "df.iloc[94]"
   ]
  },
  {
   "cell_type": "code",
   "execution_count": 17,
   "metadata": {},
   "outputs": [
    {
     "data": {
      "text/html": [
       "<div>\n",
       "<style scoped>\n",
       "    .dataframe tbody tr th:only-of-type {\n",
       "        vertical-align: middle;\n",
       "    }\n",
       "\n",
       "    .dataframe tbody tr th {\n",
       "        vertical-align: top;\n",
       "    }\n",
       "\n",
       "    .dataframe thead th {\n",
       "        text-align: right;\n",
       "    }\n",
       "</style>\n",
       "<table border=\"1\" class=\"dataframe\">\n",
       "  <thead>\n",
       "    <tr style=\"text-align: right;\">\n",
       "      <th></th>\n",
       "      <th>Country</th>\n",
       "      <th>ActivePatient</th>\n",
       "      <th>Recovered</th>\n",
       "      <th>RecoveryRate</th>\n",
       "      <th>DeathRate</th>\n",
       "    </tr>\n",
       "  </thead>\n",
       "  <tbody>\n",
       "    <tr>\n",
       "      <th>51</th>\n",
       "      <td>San Marino</td>\n",
       "      <td>89</td>\n",
       "      <td>4.0</td>\n",
       "      <td>4</td>\n",
       "      <td>9</td>\n",
       "    </tr>\n",
       "    <tr>\n",
       "      <th>1</th>\n",
       "      <td>Italy</td>\n",
       "      <td>23073</td>\n",
       "      <td>2749.0</td>\n",
       "      <td>10</td>\n",
       "      <td>8</td>\n",
       "    </tr>\n",
       "    <tr>\n",
       "      <th>65</th>\n",
       "      <td>Algeria</td>\n",
       "      <td>45</td>\n",
       "      <td>10.0</td>\n",
       "      <td>17</td>\n",
       "      <td>8</td>\n",
       "    </tr>\n",
       "    <tr>\n",
       "      <th>43</th>\n",
       "      <td>Iraq</td>\n",
       "      <td>102</td>\n",
       "      <td>41.0</td>\n",
       "      <td>27</td>\n",
       "      <td>7</td>\n",
       "    </tr>\n",
       "    <tr>\n",
       "      <th>36</th>\n",
       "      <td>Philippines</td>\n",
       "      <td>170</td>\n",
       "      <td>5.0</td>\n",
       "      <td>3</td>\n",
       "      <td>6</td>\n",
       "    </tr>\n",
       "    <tr>\n",
       "      <th>...</th>\n",
       "      <td>...</td>\n",
       "      <td>...</td>\n",
       "      <td>...</td>\n",
       "      <td>...</td>\n",
       "      <td>...</td>\n",
       "    </tr>\n",
       "    <tr>\n",
       "      <th>99</th>\n",
       "      <td>Macao</td>\n",
       "      <td>3</td>\n",
       "      <td>10.0</td>\n",
       "      <td>77</td>\n",
       "      <td>0</td>\n",
       "    </tr>\n",
       "    <tr>\n",
       "      <th>54</th>\n",
       "      <td>Mexico</td>\n",
       "      <td>78</td>\n",
       "      <td>4.0</td>\n",
       "      <td>5</td>\n",
       "      <td>0</td>\n",
       "    </tr>\n",
       "    <tr>\n",
       "      <th>46</th>\n",
       "      <td>Saudi Arabia</td>\n",
       "      <td>127</td>\n",
       "      <td>6.0</td>\n",
       "      <td>5</td>\n",
       "      <td>0</td>\n",
       "    </tr>\n",
       "    <tr>\n",
       "      <th>92</th>\n",
       "      <td>Tunisia</td>\n",
       "      <td>23</td>\n",
       "      <td>1.0</td>\n",
       "      <td>4</td>\n",
       "      <td>0</td>\n",
       "    </tr>\n",
       "    <tr>\n",
       "      <th>49</th>\n",
       "      <td>Peru</td>\n",
       "      <td>116</td>\n",
       "      <td>1.0</td>\n",
       "      <td>1</td>\n",
       "      <td>0</td>\n",
       "    </tr>\n",
       "  </tbody>\n",
       "</table>\n",
       "<p>74 rows × 5 columns</p>\n",
       "</div>"
      ],
      "text/plain": [
       "         Country  ActivePatient  Recovered  RecoveryRate  DeathRate\n",
       "51    San Marino             89        4.0             4          9\n",
       "1          Italy          23073     2749.0            10          8\n",
       "65       Algeria             45       10.0            17          8\n",
       "43          Iraq            102       41.0            27          7\n",
       "36   Philippines            170        5.0             3          6\n",
       "..           ...            ...        ...           ...        ...\n",
       "99         Macao              3       10.0            77          0\n",
       "54        Mexico             78        4.0             5          0\n",
       "46  Saudi Arabia            127        6.0             5          0\n",
       "92       Tunisia             23        1.0             4          0\n",
       "49          Peru            116        1.0             1          0\n",
       "\n",
       "[74 rows x 5 columns]"
      ]
     },
     "execution_count": 17,
     "metadata": {},
     "output_type": "execute_result"
    }
   ],
   "source": [
    "sort_by_RR.sort_values(\"DeathRate\", ascending=0)"
   ]
  },
  {
   "cell_type": "code",
   "execution_count": 18,
   "metadata": {},
   "outputs": [],
   "source": [
    "di = sort_by_RR.head().to_dict()"
   ]
  },
  {
   "cell_type": "code",
   "execution_count": 19,
   "metadata": {},
   "outputs": [
    {
     "data": {
      "text/plain": [
       "dict_keys(['Country', 'ActivePatient', 'Recovered', 'RecoveryRate', 'DeathRate'])"
      ]
     },
     "execution_count": 19,
     "metadata": {},
     "output_type": "execute_result"
    }
   ],
   "source": [
    "di.keys()"
   ]
  },
  {
   "cell_type": "code",
   "execution_count": 22,
   "metadata": {},
   "outputs": [],
   "source": [
    "sort_by_RR.reset_index(drop=True, inplace=True)"
   ]
  },
  {
   "cell_type": "code",
   "execution_count": 24,
   "metadata": {},
   "outputs": [],
   "source": [
    "sm = sort_by_RR.head()"
   ]
  },
  {
   "cell_type": "code",
   "execution_count": 25,
   "metadata": {},
   "outputs": [
    {
     "data": {
      "text/plain": [
       "'<table border=\"1\" class=\"dataframe\">\\n  <thead>\\n    <tr style=\"text-align: right;\">\\n      <th>Country</th>\\n      <th>ActivePatient</th>\\n      <th>Recovered</th>\\n      <th>RecoveryRate</th>\\n      <th>DeathRate</th>\\n    </tr>\\n  </thead>\\n  <tbody>\\n    <tr>\\n      <td>China</td>\\n      <td>8946</td>\\n      <td>68709.0</td>\\n      <td>85</td>\\n      <td>4</td>\\n    </tr>\\n    <tr>\\n      <td>Macao</td>\\n      <td>3</td>\\n      <td>10.0</td>\\n      <td>77</td>\\n      <td>0</td>\\n    </tr>\\n    <tr>\\n      <td>Diamond Princess</td>\\n      <td>233</td>\\n      <td>456.0</td>\\n      <td>66</td>\\n      <td>1</td>\\n    </tr>\\n    <tr>\\n      <td>Oman</td>\\n      <td>12</td>\\n      <td>12.0</td>\\n      <td>50</td>\\n      <td>0</td>\\n    </tr>\\n    <tr>\\n      <td>Hong Kong</td>\\n      <td>77</td>\\n      <td>81.0</td>\\n      <td>50</td>\\n      <td>2</td>\\n    </tr>\\n  </tbody>\\n</table>'"
      ]
     },
     "execution_count": 25,
     "metadata": {},
     "output_type": "execute_result"
    }
   ],
   "source": [
    "sm.to_html(index=False)"
   ]
  },
  {
   "cell_type": "code",
   "execution_count": 26,
   "metadata": {},
   "outputs": [
    {
     "data": {
      "text/html": [
       "<div>\n",
       "<style scoped>\n",
       "    .dataframe tbody tr th:only-of-type {\n",
       "        vertical-align: middle;\n",
       "    }\n",
       "\n",
       "    .dataframe tbody tr th {\n",
       "        vertical-align: top;\n",
       "    }\n",
       "\n",
       "    .dataframe thead th {\n",
       "        text-align: right;\n",
       "    }\n",
       "</style>\n",
       "<table border=\"1\" class=\"dataframe\">\n",
       "  <thead>\n",
       "    <tr style=\"text-align: right;\">\n",
       "      <th></th>\n",
       "      <th>Country</th>\n",
       "      <th>Cases</th>\n",
       "      <th>NewPatients</th>\n",
       "      <th>Deaths</th>\n",
       "      <th>RecentDeaths</th>\n",
       "      <th>Recovered</th>\n",
       "      <th>ActivePatients</th>\n",
       "      <th>CriticalPatients</th>\n",
       "    </tr>\n",
       "  </thead>\n",
       "  <tbody>\n",
       "    <tr>\n",
       "      <th>0</th>\n",
       "      <td>China</td>\n",
       "      <td>80881</td>\n",
       "      <td>21.0</td>\n",
       "      <td>3226.0</td>\n",
       "      <td>13.0</td>\n",
       "      <td>68709.0</td>\n",
       "      <td>8946</td>\n",
       "      <td>3226.0</td>\n",
       "    </tr>\n",
       "    <tr>\n",
       "      <th>1</th>\n",
       "      <td>Italy</td>\n",
       "      <td>27980</td>\n",
       "      <td>0.0</td>\n",
       "      <td>2158.0</td>\n",
       "      <td>0.0</td>\n",
       "      <td>2749.0</td>\n",
       "      <td>23073</td>\n",
       "      <td>1851.0</td>\n",
       "    </tr>\n",
       "    <tr>\n",
       "      <th>2</th>\n",
       "      <td>Iran</td>\n",
       "      <td>16169</td>\n",
       "      <td>1178.0</td>\n",
       "      <td>988.0</td>\n",
       "      <td>135.0</td>\n",
       "      <td>5389.0</td>\n",
       "      <td>9792</td>\n",
       "      <td>0.0</td>\n",
       "    </tr>\n",
       "    <tr>\n",
       "      <th>3</th>\n",
       "      <td>Spain</td>\n",
       "      <td>11409</td>\n",
       "      <td>1467.0</td>\n",
       "      <td>499.0</td>\n",
       "      <td>157.0</td>\n",
       "      <td>1028.0</td>\n",
       "      <td>9882</td>\n",
       "      <td>563.0</td>\n",
       "    </tr>\n",
       "    <tr>\n",
       "      <th>4</th>\n",
       "      <td>S. Korea</td>\n",
       "      <td>8320</td>\n",
       "      <td>84.0</td>\n",
       "      <td>81.0</td>\n",
       "      <td>6.0</td>\n",
       "      <td>1401.0</td>\n",
       "      <td>6838</td>\n",
       "      <td>59.0</td>\n",
       "    </tr>\n",
       "    <tr>\n",
       "      <th>...</th>\n",
       "      <td>...</td>\n",
       "      <td>...</td>\n",
       "      <td>...</td>\n",
       "      <td>...</td>\n",
       "      <td>...</td>\n",
       "      <td>...</td>\n",
       "      <td>...</td>\n",
       "      <td>...</td>\n",
       "    </tr>\n",
       "    <tr>\n",
       "      <th>158</th>\n",
       "      <td>Somalia</td>\n",
       "      <td>1</td>\n",
       "      <td>0.0</td>\n",
       "      <td>0.0</td>\n",
       "      <td>0.0</td>\n",
       "      <td>0.0</td>\n",
       "      <td>1</td>\n",
       "      <td>0.0</td>\n",
       "    </tr>\n",
       "    <tr>\n",
       "      <th>159</th>\n",
       "      <td>Suriname</td>\n",
       "      <td>1</td>\n",
       "      <td>0.0</td>\n",
       "      <td>0.0</td>\n",
       "      <td>0.0</td>\n",
       "      <td>0.0</td>\n",
       "      <td>1</td>\n",
       "      <td>0.0</td>\n",
       "    </tr>\n",
       "    <tr>\n",
       "      <th>160</th>\n",
       "      <td>Eswatini</td>\n",
       "      <td>1</td>\n",
       "      <td>0.0</td>\n",
       "      <td>0.0</td>\n",
       "      <td>0.0</td>\n",
       "      <td>0.0</td>\n",
       "      <td>1</td>\n",
       "      <td>0.0</td>\n",
       "    </tr>\n",
       "    <tr>\n",
       "      <th>161</th>\n",
       "      <td>Tanzania</td>\n",
       "      <td>1</td>\n",
       "      <td>0.0</td>\n",
       "      <td>0.0</td>\n",
       "      <td>0.0</td>\n",
       "      <td>0.0</td>\n",
       "      <td>1</td>\n",
       "      <td>0.0</td>\n",
       "    </tr>\n",
       "    <tr>\n",
       "      <th>162</th>\n",
       "      <td>Togo</td>\n",
       "      <td>1</td>\n",
       "      <td>0.0</td>\n",
       "      <td>0.0</td>\n",
       "      <td>0.0</td>\n",
       "      <td>0.0</td>\n",
       "      <td>1</td>\n",
       "      <td>0.0</td>\n",
       "    </tr>\n",
       "  </tbody>\n",
       "</table>\n",
       "<p>163 rows × 8 columns</p>\n",
       "</div>"
      ],
      "text/plain": [
       "      Country  Cases  NewPatients  Deaths  RecentDeaths  Recovered  \\\n",
       "0       China  80881         21.0  3226.0          13.0    68709.0   \n",
       "1       Italy  27980          0.0  2158.0           0.0     2749.0   \n",
       "2        Iran  16169       1178.0   988.0         135.0     5389.0   \n",
       "3       Spain  11409       1467.0   499.0         157.0     1028.0   \n",
       "4    S. Korea   8320         84.0    81.0           6.0     1401.0   \n",
       "..        ...    ...          ...     ...           ...        ...   \n",
       "158   Somalia      1          0.0     0.0           0.0        0.0   \n",
       "159  Suriname      1          0.0     0.0           0.0        0.0   \n",
       "160  Eswatini      1          0.0     0.0           0.0        0.0   \n",
       "161  Tanzania      1          0.0     0.0           0.0        0.0   \n",
       "162      Togo      1          0.0     0.0           0.0        0.0   \n",
       "\n",
       "     ActivePatients  CriticalPatients  \n",
       "0              8946            3226.0  \n",
       "1             23073            1851.0  \n",
       "2              9792               0.0  \n",
       "3              9882             563.0  \n",
       "4              6838              59.0  \n",
       "..              ...               ...  \n",
       "158               1               0.0  \n",
       "159               1               0.0  \n",
       "160               1               0.0  \n",
       "161               1               0.0  \n",
       "162               1               0.0  \n",
       "\n",
       "[163 rows x 8 columns]"
      ]
     },
     "execution_count": 26,
     "metadata": {},
     "output_type": "execute_result"
    }
   ],
   "source": [
    "df"
   ]
  },
  {
   "cell_type": "code",
   "execution_count": 34,
   "metadata": {},
   "outputs": [],
   "source": [
    "country_list = df[\"Country\"].to_dict()"
   ]
  },
  {
   "cell_type": "code",
   "execution_count": 37,
   "metadata": {},
   "outputs": [],
   "source": [
    "country = df[df['Country'].apply(lambda x: \"ban\" in x.lower())]"
   ]
  },
  {
   "cell_type": "code",
   "execution_count": 49,
   "metadata": {},
   "outputs": [],
   "source": [
    "di = country.sort_values(\"Cases\", ascending=0).head(1).to_dict()"
   ]
  },
  {
   "cell_type": "code",
   "execution_count": 50,
   "metadata": {},
   "outputs": [
    {
     "data": {
      "text/plain": [
       "{'Country': {48: 'Lebanon'},\n",
       " 'Cases': {48: 120},\n",
       " 'NewPatients': {48: 11.0},\n",
       " 'Deaths': {48: 3.0},\n",
       " 'RecentDeaths': {48: 0.0},\n",
       " 'Recovered': {48: 3.0},\n",
       " 'ActivePatients': {48: 114},\n",
       " 'CriticalPatients': {48: 3.0}}"
      ]
     },
     "execution_count": 50,
     "metadata": {},
     "output_type": "execute_result"
    }
   ],
   "source": [
    "di"
   ]
  },
  {
   "cell_type": "code",
   "execution_count": 59,
   "metadata": {},
   "outputs": [],
   "source": [
    "con = list(di[\"Country\"].values())[0]"
   ]
  },
  {
   "cell_type": "code",
   "execution_count": 61,
   "metadata": {},
   "outputs": [
    {
     "data": {
      "text/plain": [
       "'Lebanon'"
      ]
     },
     "execution_count": 61,
     "metadata": {},
     "output_type": "execute_result"
    }
   ],
   "source": [
    "con"
   ]
  },
  {
   "cell_type": "code",
   "execution_count": 67,
   "metadata": {},
   "outputs": [],
   "source": [
    "country.to_csv(\"remove.csv\", index=False)"
   ]
  },
  {
   "cell_type": "code",
   "execution_count": 69,
   "metadata": {},
   "outputs": [],
   "source": [
    "con = pd.read_csv(\"remove.csv\")"
   ]
  },
  {
   "cell_type": "code",
   "execution_count": 70,
   "metadata": {},
   "outputs": [
    {
     "data": {
      "text/html": [
       "<div>\n",
       "<style scoped>\n",
       "    .dataframe tbody tr th:only-of-type {\n",
       "        vertical-align: middle;\n",
       "    }\n",
       "\n",
       "    .dataframe tbody tr th {\n",
       "        vertical-align: top;\n",
       "    }\n",
       "\n",
       "    .dataframe thead th {\n",
       "        text-align: right;\n",
       "    }\n",
       "</style>\n",
       "<table border=\"1\" class=\"dataframe\">\n",
       "  <thead>\n",
       "    <tr style=\"text-align: right;\">\n",
       "      <th></th>\n",
       "      <th>Country</th>\n",
       "      <th>Cases</th>\n",
       "      <th>NewPatients</th>\n",
       "      <th>Deaths</th>\n",
       "      <th>RecentDeaths</th>\n",
       "      <th>Recovered</th>\n",
       "      <th>ActivePatients</th>\n",
       "      <th>CriticalPatients</th>\n",
       "    </tr>\n",
       "  </thead>\n",
       "  <tbody>\n",
       "    <tr>\n",
       "      <th>0</th>\n",
       "      <td>Lebanon</td>\n",
       "      <td>120</td>\n",
       "      <td>11.0</td>\n",
       "      <td>3.0</td>\n",
       "      <td>0.0</td>\n",
       "      <td>3.0</td>\n",
       "      <td>114</td>\n",
       "      <td>3.0</td>\n",
       "    </tr>\n",
       "    <tr>\n",
       "      <th>1</th>\n",
       "      <td>Albania</td>\n",
       "      <td>55</td>\n",
       "      <td>4.0</td>\n",
       "      <td>1.0</td>\n",
       "      <td>0.0</td>\n",
       "      <td>0.0</td>\n",
       "      <td>54</td>\n",
       "      <td>2.0</td>\n",
       "    </tr>\n",
       "    <tr>\n",
       "      <th>2</th>\n",
       "      <td>Bangladesh</td>\n",
       "      <td>10</td>\n",
       "      <td>2.0</td>\n",
       "      <td>0.0</td>\n",
       "      <td>0.0</td>\n",
       "      <td>3.0</td>\n",
       "      <td>7</td>\n",
       "      <td>0.0</td>\n",
       "    </tr>\n",
       "  </tbody>\n",
       "</table>\n",
       "</div>"
      ],
      "text/plain": [
       "      Country  Cases  NewPatients  Deaths  RecentDeaths  Recovered  \\\n",
       "0     Lebanon    120         11.0     3.0           0.0        3.0   \n",
       "1     Albania     55          4.0     1.0           0.0        0.0   \n",
       "2  Bangladesh     10          2.0     0.0           0.0        3.0   \n",
       "\n",
       "   ActivePatients  CriticalPatients  \n",
       "0             114               3.0  \n",
       "1              54               2.0  \n",
       "2               7               0.0  "
      ]
     },
     "execution_count": 70,
     "metadata": {},
     "output_type": "execute_result"
    }
   ],
   "source": [
    "con"
   ]
  },
  {
   "cell_type": "code",
   "execution_count": 71,
   "metadata": {},
   "outputs": [
    {
     "data": {
      "text/html": [
       "<div>\n",
       "<style scoped>\n",
       "    .dataframe tbody tr th:only-of-type {\n",
       "        vertical-align: middle;\n",
       "    }\n",
       "\n",
       "    .dataframe tbody tr th {\n",
       "        vertical-align: top;\n",
       "    }\n",
       "\n",
       "    .dataframe thead th {\n",
       "        text-align: right;\n",
       "    }\n",
       "</style>\n",
       "<table border=\"1\" class=\"dataframe\">\n",
       "  <thead>\n",
       "    <tr style=\"text-align: right;\">\n",
       "      <th></th>\n",
       "      <th>Country</th>\n",
       "      <th>ActivePatient</th>\n",
       "      <th>Recovered</th>\n",
       "      <th>RecoveryRate</th>\n",
       "      <th>DeathRate</th>\n",
       "    </tr>\n",
       "  </thead>\n",
       "  <tbody>\n",
       "    <tr>\n",
       "      <th>0</th>\n",
       "      <td>China</td>\n",
       "      <td>8946</td>\n",
       "      <td>68709.0</td>\n",
       "      <td>85</td>\n",
       "      <td>4</td>\n",
       "    </tr>\n",
       "    <tr>\n",
       "      <th>1</th>\n",
       "      <td>Macao</td>\n",
       "      <td>3</td>\n",
       "      <td>10.0</td>\n",
       "      <td>77</td>\n",
       "      <td>0</td>\n",
       "    </tr>\n",
       "    <tr>\n",
       "      <th>2</th>\n",
       "      <td>Diamond Princess</td>\n",
       "      <td>233</td>\n",
       "      <td>456.0</td>\n",
       "      <td>66</td>\n",
       "      <td>1</td>\n",
       "    </tr>\n",
       "    <tr>\n",
       "      <th>3</th>\n",
       "      <td>Oman</td>\n",
       "      <td>12</td>\n",
       "      <td>12.0</td>\n",
       "      <td>50</td>\n",
       "      <td>0</td>\n",
       "    </tr>\n",
       "    <tr>\n",
       "      <th>4</th>\n",
       "      <td>Hong Kong</td>\n",
       "      <td>77</td>\n",
       "      <td>81.0</td>\n",
       "      <td>50</td>\n",
       "      <td>2</td>\n",
       "    </tr>\n",
       "    <tr>\n",
       "      <th>...</th>\n",
       "      <td>...</td>\n",
       "      <td>...</td>\n",
       "      <td>...</td>\n",
       "      <td>...</td>\n",
       "      <td>...</td>\n",
       "    </tr>\n",
       "    <tr>\n",
       "      <th>69</th>\n",
       "      <td>Brazil</td>\n",
       "      <td>299</td>\n",
       "      <td>2.0</td>\n",
       "      <td>1</td>\n",
       "      <td>0</td>\n",
       "    </tr>\n",
       "    <tr>\n",
       "      <th>70</th>\n",
       "      <td>Austria</td>\n",
       "      <td>1199</td>\n",
       "      <td>8.0</td>\n",
       "      <td>1</td>\n",
       "      <td>0</td>\n",
       "    </tr>\n",
       "    <tr>\n",
       "      <th>71</th>\n",
       "      <td>Germany</td>\n",
       "      <td>7887</td>\n",
       "      <td>67.0</td>\n",
       "      <td>1</td>\n",
       "      <td>0</td>\n",
       "    </tr>\n",
       "    <tr>\n",
       "      <th>72</th>\n",
       "      <td>Pakistan</td>\n",
       "      <td>209</td>\n",
       "      <td>2.0</td>\n",
       "      <td>1</td>\n",
       "      <td>0</td>\n",
       "    </tr>\n",
       "    <tr>\n",
       "      <th>73</th>\n",
       "      <td>Peru</td>\n",
       "      <td>116</td>\n",
       "      <td>1.0</td>\n",
       "      <td>1</td>\n",
       "      <td>0</td>\n",
       "    </tr>\n",
       "  </tbody>\n",
       "</table>\n",
       "<p>74 rows × 5 columns</p>\n",
       "</div>"
      ],
      "text/plain": [
       "             Country  ActivePatient  Recovered  RecoveryRate  DeathRate\n",
       "0              China           8946    68709.0            85          4\n",
       "1              Macao              3       10.0            77          0\n",
       "2   Diamond Princess            233      456.0            66          1\n",
       "3               Oman             12       12.0            50          0\n",
       "4          Hong Kong             77       81.0            50          2\n",
       "..               ...            ...        ...           ...        ...\n",
       "69            Brazil            299        2.0             1          0\n",
       "70           Austria           1199        8.0             1          0\n",
       "71           Germany           7887       67.0             1          0\n",
       "72          Pakistan            209        2.0             1          0\n",
       "73              Peru            116        1.0             1          0\n",
       "\n",
       "[74 rows x 5 columns]"
      ]
     },
     "execution_count": 71,
     "metadata": {},
     "output_type": "execute_result"
    }
   ],
   "source": [
    "sort_by_RR"
   ]
  },
  {
   "cell_type": "code",
   "execution_count": 96,
   "metadata": {},
   "outputs": [],
   "source": [
    "plot_data = df.drop('Country', axis=1).sum()"
   ]
  },
  {
   "cell_type": "code",
   "execution_count": 97,
   "metadata": {},
   "outputs": [],
   "source": [
    "# activePatient[\"DeathRate\"] = activePatient[\"DeathRate\"] / df.shape[0]"
   ]
  },
  {
   "cell_type": "code",
   "execution_count": 102,
   "metadata": {},
   "outputs": [
    {
     "data": {
      "text/plain": [
       "[188430.0, 5987.0, 7499.0, 352.0, 80854.0, 100077.0, 6500.0]"
      ]
     },
     "execution_count": 102,
     "metadata": {},
     "output_type": "execute_result"
    }
   ],
   "source": [
    "plot_data.to_list()"
   ]
  },
  {
   "cell_type": "code",
   "execution_count": 103,
   "metadata": {},
   "outputs": [
    {
     "data": {
      "text/plain": [
       "Index(['Cases', 'NewPatients', 'Deaths', 'RecentDeaths', 'Recovered',\n",
       "       'ActivePatients', 'CriticalPatients'],\n",
       "      dtype='object')"
      ]
     },
     "execution_count": 103,
     "metadata": {},
     "output_type": "execute_result"
    }
   ],
   "source": [
    "plot_data.index"
   ]
  },
  {
   "cell_type": "code",
   "execution_count": 107,
   "metadata": {},
   "outputs": [],
   "source": [
    "plot_data[\"DeathRate\"] = plot_data[\"Deaths\"] / plot_data[\"Cases\"] * 100"
   ]
  },
  {
   "cell_type": "code",
   "execution_count": 108,
   "metadata": {},
   "outputs": [
    {
     "data": {
      "text/plain": [
       "Cases               188430.000000\n",
       "NewPatients           5987.000000\n",
       "Deaths                7499.000000\n",
       "RecentDeaths           352.000000\n",
       "Recovered            80854.000000\n",
       "ActivePatients      100077.000000\n",
       "CriticalPatients      6500.000000\n",
       "DeathRate                3.979727\n",
       "dtype: float64"
      ]
     },
     "execution_count": 108,
     "metadata": {},
     "output_type": "execute_result"
    }
   ],
   "source": [
    "plot_data"
   ]
  },
  {
   "cell_type": "code",
   "execution_count": 109,
   "metadata": {},
   "outputs": [
    {
     "data": {
      "text/plain": [
       "(8,)"
      ]
     },
     "execution_count": 109,
     "metadata": {},
     "output_type": "execute_result"
    }
   ],
   "source": [
    "plot_data.shape"
   ]
  },
  {
   "cell_type": "code",
   "execution_count": 112,
   "metadata": {},
   "outputs": [
    {
     "data": {
      "text/plain": [
       "array([1.88430000e+05, 5.98700000e+03, 7.49900000e+03, 3.52000000e+02,\n",
       "       8.08540000e+04, 1.00077000e+05, 6.50000000e+03, 3.97972722e+00])"
      ]
     },
     "execution_count": 112,
     "metadata": {},
     "output_type": "execute_result"
    }
   ],
   "source": [
    "(plot_data.values)"
   ]
  },
  {
   "cell_type": "code",
   "execution_count": 114,
   "metadata": {},
   "outputs": [
    {
     "data": {
      "text/plain": [
       "['Cases',\n",
       " 'NewPatients',\n",
       " 'Deaths',\n",
       " 'RecentDeaths',\n",
       " 'Recovered',\n",
       " 'ActivePatients',\n",
       " 'CriticalPatients',\n",
       " 'DeathRate']"
      ]
     },
     "execution_count": 114,
     "metadata": {},
     "output_type": "execute_result"
    }
   ],
   "source": [
    "list(plot_data.index)"
   ]
  },
  {
   "cell_type": "code",
   "execution_count": 115,
   "metadata": {},
   "outputs": [
    {
     "data": {
      "text/plain": [
       "[188430.0, 5987.0, 7499.0, 352.0, 80854.0, 100077.0, 6500.0, 3.979727219657167]"
      ]
     },
     "execution_count": 115,
     "metadata": {},
     "output_type": "execute_result"
    }
   ],
   "source": [
    "plot_data.to_list()"
   ]
  },
  {
   "cell_type": "code",
   "execution_count": null,
   "metadata": {},
   "outputs": [],
   "source": []
  }
 ],
 "metadata": {
  "kernelspec": {
   "display_name": "Python 3.7.4 64-bit ('base': conda)",
   "language": "python",
   "name": "python37464bitbaseconda3ce79b3f9516421488370e8689554564"
  },
  "language_info": {
   "codemirror_mode": {
    "name": "ipython",
    "version": 3
   },
   "file_extension": ".py",
   "mimetype": "text/x-python",
   "name": "python",
   "nbconvert_exporter": "python",
   "pygments_lexer": "ipython3",
   "version": "3.7.4"
  }
 },
 "nbformat": 4,
 "nbformat_minor": 4
}
