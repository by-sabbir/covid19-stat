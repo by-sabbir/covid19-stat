{
 "cells": [
  {
   "cell_type": "code",
   "execution_count": 7,
   "metadata": {},
   "outputs": [],
   "source": [
    "import matplotlib.pyplot as plt\n",
    "import seaborn as sns\n",
    "import pandas as pd\n",
    "import numpy as np\n",
    "from locale import atof\n",
    "import locale\n",
    "locale.setlocale(locale.LC_NUMERIC, '')\n",
    "%matplotlib inline\n",
    "import requests as r"
   ]
  },
  {
   "cell_type": "code",
   "execution_count": 11,
   "metadata": {},
   "outputs": [],
   "source": [
    "def fetch_data(url):\n",
    "    df = pd.read_html(url)[0]\n",
    "#     df = pd.read_csv(\"static/corona.csv\", index_col=False)\n",
    "    if len(df.columns) >= 8:\n",
    "        df.drop(df.columns.values[-1], axis=1, inplace=True)\n",
    "        new_col_names = [\"Country\", \"Cases\", \"NewPatients\", \"Deaths\", \"RecentDeaths\",\n",
    "                         \"Recovered\", \"ActivePatients\", \"CriticalPatients\"]\n",
    "        rename_dict = dict(zip(df.columns.values, new_col_names))\n",
    "        df = df.rename(columns=rename_dict)\n",
    "        df[\"NewPatients\"] = df[\"NewPatients\"].apply(lambda x: x is not None and type(x) is not float and '+' in x and atof(x.split('+')[1]))\n",
    "        df[\"NewPatients\"] = df[\"NewPatients\"].replace(False, 0)\n",
    "        df.drop(df[df[\"Country\"].apply(lambda x: \"Total\" in x)].index.values, inplace=True)\n",
    "        df.fillna(value=0, inplace=True)\n",
    "        return df\n",
    "    return {\"code\": 404}"
   ]
  },
  {
   "cell_type": "code",
   "execution_count": 12,
   "metadata": {},
   "outputs": [
    {
     "data": {
      "text/html": [
       "<div>\n",
       "<style scoped>\n",
       "    .dataframe tbody tr th:only-of-type {\n",
       "        vertical-align: middle;\n",
       "    }\n",
       "\n",
       "    .dataframe tbody tr th {\n",
       "        vertical-align: top;\n",
       "    }\n",
       "\n",
       "    .dataframe thead th {\n",
       "        text-align: right;\n",
       "    }\n",
       "</style>\n",
       "<table border=\"1\" class=\"dataframe\">\n",
       "  <thead>\n",
       "    <tr style=\"text-align: right;\">\n",
       "      <th></th>\n",
       "      <th>Country</th>\n",
       "      <th>Cases</th>\n",
       "      <th>NewPatients</th>\n",
       "      <th>Deaths</th>\n",
       "      <th>RecentDeaths</th>\n",
       "      <th>Recovered</th>\n",
       "      <th>ActivePatients</th>\n",
       "      <th>CriticalPatients</th>\n",
       "    </tr>\n",
       "  </thead>\n",
       "  <tbody>\n",
       "    <tr>\n",
       "      <th>0</th>\n",
       "      <td>China</td>\n",
       "      <td>80866</td>\n",
       "      <td>0.0</td>\n",
       "      <td>3213.0</td>\n",
       "      <td>14.0</td>\n",
       "      <td>67762.0</td>\n",
       "      <td>9891</td>\n",
       "      <td>3226.0</td>\n",
       "    </tr>\n",
       "    <tr>\n",
       "      <th>1</th>\n",
       "      <td>Italy</td>\n",
       "      <td>24747</td>\n",
       "      <td>0.0</td>\n",
       "      <td>1809.0</td>\n",
       "      <td>0.0</td>\n",
       "      <td>2335.0</td>\n",
       "      <td>20603</td>\n",
       "      <td>1672.0</td>\n",
       "    </tr>\n",
       "    <tr>\n",
       "      <th>2</th>\n",
       "      <td>Iran</td>\n",
       "      <td>13938</td>\n",
       "      <td>0.0</td>\n",
       "      <td>724.0</td>\n",
       "      <td>0.0</td>\n",
       "      <td>4590.0</td>\n",
       "      <td>8624</td>\n",
       "      <td>0.0</td>\n",
       "    </tr>\n",
       "    <tr>\n",
       "      <th>3</th>\n",
       "      <td>S. Korea</td>\n",
       "      <td>8236</td>\n",
       "      <td>0.0</td>\n",
       "      <td>75.0</td>\n",
       "      <td>0.0</td>\n",
       "      <td>1137.0</td>\n",
       "      <td>7024</td>\n",
       "      <td>59.0</td>\n",
       "    </tr>\n",
       "    <tr>\n",
       "      <th>4</th>\n",
       "      <td>Spain</td>\n",
       "      <td>7988</td>\n",
       "      <td>0.0</td>\n",
       "      <td>294.0</td>\n",
       "      <td>0.0</td>\n",
       "      <td>517.0</td>\n",
       "      <td>7177</td>\n",
       "      <td>272.0</td>\n",
       "    </tr>\n",
       "  </tbody>\n",
       "</table>\n",
       "</div>"
      ],
      "text/plain": [
       "    Country  Cases  NewPatients  Deaths  RecentDeaths  Recovered  \\\n",
       "0     China  80866          0.0  3213.0          14.0    67762.0   \n",
       "1     Italy  24747          0.0  1809.0           0.0     2335.0   \n",
       "2      Iran  13938          0.0   724.0           0.0     4590.0   \n",
       "3  S. Korea   8236          0.0    75.0           0.0     1137.0   \n",
       "4     Spain   7988          0.0   294.0           0.0      517.0   \n",
       "\n",
       "   ActivePatients  CriticalPatients  \n",
       "0            9891            3226.0  \n",
       "1           20603            1672.0  \n",
       "2            8624               0.0  \n",
       "3            7024              59.0  \n",
       "4            7177             272.0  "
      ]
     },
     "execution_count": 12,
     "metadata": {},
     "output_type": "execute_result"
    }
   ],
   "source": [
    "res = r.get(\"https://www.worldometers.info/coronavirus/\") \n",
    "df = fetch_data(res.text)\n",
    "df.head()"
   ]
  },
  {
   "cell_type": "code",
   "execution_count": 13,
   "metadata": {},
   "outputs": [],
   "source": [
    "workdf = df.sort_values(\"Cases\", ascending=0).head(30)"
   ]
  },
  {
   "cell_type": "code",
   "execution_count": 36,
   "metadata": {},
   "outputs": [],
   "source": [
    "country, activePatient, recovered, recoveryRate, deathRate = df[\"Country\"], df[\"ActivePatients\"], df[\"Recovered\"], (df[\"Recovered\"] / df[\"Cases\"]) * 100, (df[\"Deaths\"]/ df[\"Cases\"]) * 100"
   ]
  },
  {
   "cell_type": "code",
   "execution_count": 38,
   "metadata": {},
   "outputs": [],
   "source": [
    "data = {\"Country\": country,\n",
    "        \"ActivePatient\": activePatient,\n",
    "        \"Recovered\": recovered,\n",
    "        \"RecoveryRate\": recoveryRate,\n",
    "        \"DeathRate\": deathRate}"
   ]
  },
  {
   "cell_type": "code",
   "execution_count": 39,
   "metadata": {},
   "outputs": [],
   "source": [
    "work = pd.DataFrame(data)"
   ]
  },
  {
   "cell_type": "code",
   "execution_count": 40,
   "metadata": {},
   "outputs": [
    {
     "name": "stdout",
     "output_type": "stream",
     "text": [
      "<class 'pandas.core.frame.DataFrame'>\n",
      "Int64Index: 158 entries, 0 to 157\n",
      "Data columns (total 5 columns):\n",
      " #   Column         Non-Null Count  Dtype  \n",
      "---  ------         --------------  -----  \n",
      " 0   Country        158 non-null    object \n",
      " 1   ActivePatient  158 non-null    int64  \n",
      " 2   Recovered      158 non-null    float64\n",
      " 3   RecoveryRate   158 non-null    float64\n",
      " 4   DeathRate      158 non-null    float64\n",
      "dtypes: float64(3), int64(1), object(1)\n",
      "memory usage: 12.4+ KB\n"
     ]
    }
   ],
   "source": [
    "work.info()"
   ]
  },
  {
   "cell_type": "code",
   "execution_count": 41,
   "metadata": {},
   "outputs": [],
   "source": [
    "work = work.fillna(value=0)"
   ]
  },
  {
   "cell_type": "code",
   "execution_count": 42,
   "metadata": {},
   "outputs": [
    {
     "data": {
      "text/html": [
       "<div>\n",
       "<style scoped>\n",
       "    .dataframe tbody tr th:only-of-type {\n",
       "        vertical-align: middle;\n",
       "    }\n",
       "\n",
       "    .dataframe tbody tr th {\n",
       "        vertical-align: top;\n",
       "    }\n",
       "\n",
       "    .dataframe thead th {\n",
       "        text-align: right;\n",
       "    }\n",
       "</style>\n",
       "<table border=\"1\" class=\"dataframe\">\n",
       "  <thead>\n",
       "    <tr style=\"text-align: right;\">\n",
       "      <th></th>\n",
       "      <th>Country</th>\n",
       "      <th>ActivePatient</th>\n",
       "      <th>Recovered</th>\n",
       "      <th>RecoveryRate</th>\n",
       "      <th>DeathRate</th>\n",
       "    </tr>\n",
       "  </thead>\n",
       "  <tbody>\n",
       "    <tr>\n",
       "      <th>0</th>\n",
       "      <td>China</td>\n",
       "      <td>9891</td>\n",
       "      <td>67762.0</td>\n",
       "      <td>83.795415</td>\n",
       "      <td>3.973240</td>\n",
       "    </tr>\n",
       "    <tr>\n",
       "      <th>1</th>\n",
       "      <td>Italy</td>\n",
       "      <td>20603</td>\n",
       "      <td>2335.0</td>\n",
       "      <td>9.435487</td>\n",
       "      <td>7.309977</td>\n",
       "    </tr>\n",
       "    <tr>\n",
       "      <th>2</th>\n",
       "      <td>Iran</td>\n",
       "      <td>8624</td>\n",
       "      <td>4590.0</td>\n",
       "      <td>32.931554</td>\n",
       "      <td>5.194432</td>\n",
       "    </tr>\n",
       "    <tr>\n",
       "      <th>3</th>\n",
       "      <td>S. Korea</td>\n",
       "      <td>7024</td>\n",
       "      <td>1137.0</td>\n",
       "      <td>13.805245</td>\n",
       "      <td>0.910636</td>\n",
       "    </tr>\n",
       "    <tr>\n",
       "      <th>4</th>\n",
       "      <td>Spain</td>\n",
       "      <td>7177</td>\n",
       "      <td>517.0</td>\n",
       "      <td>6.472208</td>\n",
       "      <td>3.680521</td>\n",
       "    </tr>\n",
       "  </tbody>\n",
       "</table>\n",
       "</div>"
      ],
      "text/plain": [
       "    Country  ActivePatient  Recovered  RecoveryRate  DeathRate\n",
       "0     China           9891    67762.0     83.795415   3.973240\n",
       "1     Italy          20603     2335.0      9.435487   7.309977\n",
       "2      Iran           8624     4590.0     32.931554   5.194432\n",
       "3  S. Korea           7024     1137.0     13.805245   0.910636\n",
       "4     Spain           7177      517.0      6.472208   3.680521"
      ]
     },
     "execution_count": 42,
     "metadata": {},
     "output_type": "execute_result"
    }
   ],
   "source": [
    "work.head()"
   ]
  },
  {
   "cell_type": "code",
   "execution_count": 43,
   "metadata": {},
   "outputs": [
    {
     "name": "stderr",
     "output_type": "stream",
     "text": [
      "/home/ipd/.local/lib/python3.7/site-packages/ipykernel_launcher.py:1: UserWarning: Boolean Series key will be reindexed to match DataFrame index.\n",
      "  \"\"\"Entry point for launching an IPython kernel.\n"
     ]
    }
   ],
   "source": [
    "fresh = work[work[\"ActivePatient\"] > 0][ work[\"RecoveryRate\"] > 0]"
   ]
  },
  {
   "cell_type": "code",
   "execution_count": 44,
   "metadata": {},
   "outputs": [],
   "source": [
    "sort_by_RR = fresh.sort_values(\"RecoveryRate\", ascending=0)"
   ]
  },
  {
   "cell_type": "code",
   "execution_count": 45,
   "metadata": {},
   "outputs": [
    {
     "data": {
      "text/html": [
       "<div>\n",
       "<style scoped>\n",
       "    .dataframe tbody tr th:only-of-type {\n",
       "        vertical-align: middle;\n",
       "    }\n",
       "\n",
       "    .dataframe tbody tr th {\n",
       "        vertical-align: top;\n",
       "    }\n",
       "\n",
       "    .dataframe thead th {\n",
       "        text-align: right;\n",
       "    }\n",
       "</style>\n",
       "<table border=\"1\" class=\"dataframe\">\n",
       "  <thead>\n",
       "    <tr style=\"text-align: right;\">\n",
       "      <th></th>\n",
       "      <th>Country</th>\n",
       "      <th>ActivePatient</th>\n",
       "      <th>Recovered</th>\n",
       "      <th>RecoveryRate</th>\n",
       "      <th>DeathRate</th>\n",
       "    </tr>\n",
       "  </thead>\n",
       "  <tbody>\n",
       "    <tr>\n",
       "      <th>94</th>\n",
       "      <td>Macao</td>\n",
       "      <td>1</td>\n",
       "      <td>10.0</td>\n",
       "      <td>90.909091</td>\n",
       "      <td>0.000000</td>\n",
       "    </tr>\n",
       "    <tr>\n",
       "      <th>0</th>\n",
       "      <td>China</td>\n",
       "      <td>9891</td>\n",
       "      <td>67762.0</td>\n",
       "      <td>83.795415</td>\n",
       "      <td>3.973240</td>\n",
       "    </tr>\n",
       "    <tr>\n",
       "      <th>17</th>\n",
       "      <td>Diamond Princess</td>\n",
       "      <td>233</td>\n",
       "      <td>456.0</td>\n",
       "      <td>65.517241</td>\n",
       "      <td>1.005747</td>\n",
       "    </tr>\n",
       "    <tr>\n",
       "      <th>36</th>\n",
       "      <td>Hong Kong</td>\n",
       "      <td>64</td>\n",
       "      <td>81.0</td>\n",
       "      <td>54.362416</td>\n",
       "      <td>2.684564</td>\n",
       "    </tr>\n",
       "    <tr>\n",
       "      <th>130</th>\n",
       "      <td>Nigeria</td>\n",
       "      <td>1</td>\n",
       "      <td>1.0</td>\n",
       "      <td>50.000000</td>\n",
       "      <td>0.000000</td>\n",
       "    </tr>\n",
       "  </tbody>\n",
       "</table>\n",
       "</div>"
      ],
      "text/plain": [
       "              Country  ActivePatient  Recovered  RecoveryRate  DeathRate\n",
       "94              Macao              1       10.0     90.909091   0.000000\n",
       "0               China           9891    67762.0     83.795415   3.973240\n",
       "17   Diamond Princess            233      456.0     65.517241   1.005747\n",
       "36          Hong Kong             64       81.0     54.362416   2.684564\n",
       "130           Nigeria              1        1.0     50.000000   0.000000"
      ]
     },
     "execution_count": 45,
     "metadata": {},
     "output_type": "execute_result"
    }
   ],
   "source": [
    "sort_by_RR.head()"
   ]
  },
  {
   "cell_type": "code",
   "execution_count": 46,
   "metadata": {},
   "outputs": [
    {
     "data": {
      "text/plain": [
       "Country             Macao\n",
       "Cases                  11\n",
       "NewPatients             0\n",
       "Deaths                  0\n",
       "RecentDeaths            0\n",
       "Recovered              10\n",
       "ActivePatients          1\n",
       "CriticalPatients        0\n",
       "Name: 94, dtype: object"
      ]
     },
     "execution_count": 46,
     "metadata": {},
     "output_type": "execute_result"
    }
   ],
   "source": [
    "df.iloc[94]"
   ]
  },
  {
   "cell_type": "code",
   "execution_count": 47,
   "metadata": {},
   "outputs": [
    {
     "data": {
      "text/html": [
       "<div>\n",
       "<style scoped>\n",
       "    .dataframe tbody tr th:only-of-type {\n",
       "        vertical-align: middle;\n",
       "    }\n",
       "\n",
       "    .dataframe tbody tr th {\n",
       "        vertical-align: top;\n",
       "    }\n",
       "\n",
       "    .dataframe thead th {\n",
       "        text-align: right;\n",
       "    }\n",
       "</style>\n",
       "<table border=\"1\" class=\"dataframe\">\n",
       "  <thead>\n",
       "    <tr style=\"text-align: right;\">\n",
       "      <th></th>\n",
       "      <th>Country</th>\n",
       "      <th>ActivePatient</th>\n",
       "      <th>Recovered</th>\n",
       "      <th>RecoveryRate</th>\n",
       "      <th>DeathRate</th>\n",
       "    </tr>\n",
       "  </thead>\n",
       "  <tbody>\n",
       "    <tr>\n",
       "      <th>37</th>\n",
       "      <td>Philippines</td>\n",
       "      <td>123</td>\n",
       "      <td>5.0</td>\n",
       "      <td>3.571429</td>\n",
       "      <td>8.571429</td>\n",
       "    </tr>\n",
       "    <tr>\n",
       "      <th>39</th>\n",
       "      <td>Iraq</td>\n",
       "      <td>88</td>\n",
       "      <td>26.0</td>\n",
       "      <td>20.967742</td>\n",
       "      <td>8.064516</td>\n",
       "    </tr>\n",
       "    <tr>\n",
       "      <th>61</th>\n",
       "      <td>Algeria</td>\n",
       "      <td>40</td>\n",
       "      <td>10.0</td>\n",
       "      <td>18.518519</td>\n",
       "      <td>7.407407</td>\n",
       "    </tr>\n",
       "    <tr>\n",
       "      <th>1</th>\n",
       "      <td>Italy</td>\n",
       "      <td>20603</td>\n",
       "      <td>2335.0</td>\n",
       "      <td>9.435487</td>\n",
       "      <td>7.309977</td>\n",
       "    </tr>\n",
       "    <tr>\n",
       "      <th>46</th>\n",
       "      <td>San Marino</td>\n",
       "      <td>98</td>\n",
       "      <td>4.0</td>\n",
       "      <td>3.669725</td>\n",
       "      <td>6.422018</td>\n",
       "    </tr>\n",
       "    <tr>\n",
       "      <th>...</th>\n",
       "      <td>...</td>\n",
       "      <td>...</td>\n",
       "      <td>...</td>\n",
       "      <td>...</td>\n",
       "      <td>...</td>\n",
       "    </tr>\n",
       "    <tr>\n",
       "      <th>58</th>\n",
       "      <td>Croatia</td>\n",
       "      <td>53</td>\n",
       "      <td>3.0</td>\n",
       "      <td>5.357143</td>\n",
       "      <td>0.000000</td>\n",
       "    </tr>\n",
       "    <tr>\n",
       "      <th>86</th>\n",
       "      <td>Sri Lanka</td>\n",
       "      <td>18</td>\n",
       "      <td>1.0</td>\n",
       "      <td>5.263158</td>\n",
       "      <td>0.000000</td>\n",
       "    </tr>\n",
       "    <tr>\n",
       "      <th>85</th>\n",
       "      <td>North Macedonia</td>\n",
       "      <td>18</td>\n",
       "      <td>1.0</td>\n",
       "      <td>5.263158</td>\n",
       "      <td>0.000000</td>\n",
       "    </tr>\n",
       "    <tr>\n",
       "      <th>82</th>\n",
       "      <td>Afghanistan</td>\n",
       "      <td>20</td>\n",
       "      <td>1.0</td>\n",
       "      <td>4.761905</td>\n",
       "      <td>0.000000</td>\n",
       "    </tr>\n",
       "    <tr>\n",
       "      <th>34</th>\n",
       "      <td>Romania</td>\n",
       "      <td>149</td>\n",
       "      <td>9.0</td>\n",
       "      <td>5.696203</td>\n",
       "      <td>0.000000</td>\n",
       "    </tr>\n",
       "  </tbody>\n",
       "</table>\n",
       "<p>74 rows × 5 columns</p>\n",
       "</div>"
      ],
      "text/plain": [
       "            Country  ActivePatient  Recovered  RecoveryRate  DeathRate\n",
       "37      Philippines            123        5.0      3.571429   8.571429\n",
       "39             Iraq             88       26.0     20.967742   8.064516\n",
       "61          Algeria             40       10.0     18.518519   7.407407\n",
       "1             Italy          20603     2335.0      9.435487   7.309977\n",
       "46       San Marino             98        4.0      3.669725   6.422018\n",
       "..              ...            ...        ...           ...        ...\n",
       "58          Croatia             53        3.0      5.357143   0.000000\n",
       "86        Sri Lanka             18        1.0      5.263158   0.000000\n",
       "85  North Macedonia             18        1.0      5.263158   0.000000\n",
       "82      Afghanistan             20        1.0      4.761905   0.000000\n",
       "34          Romania            149        9.0      5.696203   0.000000\n",
       "\n",
       "[74 rows x 5 columns]"
      ]
     },
     "execution_count": 47,
     "metadata": {},
     "output_type": "execute_result"
    }
   ],
   "source": [
    "sort_by_RR.sort_values(\"DeathRate\", ascending=0)"
   ]
  },
  {
   "cell_type": "code",
   "execution_count": null,
   "metadata": {},
   "outputs": [],
   "source": []
  }
 ],
 "metadata": {
  "kernelspec": {
   "display_name": "Python 3.7.4 64-bit ('base': conda)",
   "language": "python",
   "name": "python37464bitbaseconda68f686f250264d08abde779b01f6f2ee"
  },
  "language_info": {
   "codemirror_mode": {
    "name": "ipython",
    "version": 3
   },
   "file_extension": ".py",
   "mimetype": "text/x-python",
   "name": "python",
   "nbconvert_exporter": "python",
   "pygments_lexer": "ipython3",
   "version": "3.7.4"
  }
 },
 "nbformat": 4,
 "nbformat_minor": 4
}
